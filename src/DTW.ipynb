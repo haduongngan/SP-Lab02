{
  "nbformat": 4,
  "nbformat_minor": 0,
  "metadata": {
    "colab": {
      "name": "DTW.ipynb",
      "provenance": [],
      "collapsed_sections": [
        "6YqwuyqJrqz0",
        "gWHvYnROsj-2",
        "hnZBN0z1PvyL"
      ]
    },
    "kernelspec": {
      "name": "python3",
      "display_name": "Python 3"
    },
    "language_info": {
      "name": "python"
    },
    "accelerator": "GPU"
  },
  "cells": [
    {
      "cell_type": "markdown",
      "source": [
        "Trong file này, em thực hiện cài đặt chương trình sử dụng DTW để nhận dạng khẩu lệnh đơn lẻ (mỗi từ/khẩu lệnh dùng khoảng 2-3 mẫu)\n",
        "\n",
        "Để thực hiện công việc này, em sử dụng thư viện librosa.sequence.dtw và đọc thêm ở đây [Dynamic Time Warping Algorithm Review](https://www.researchgate.net/publication/228785661_Dynamic_Time_Warping_Algorithm_Review) để hiểu các thứ liên quan."
      ],
      "metadata": {
        "id": "9a0wS-uwqhR0"
      }
    },
    {
      "cell_type": "markdown",
      "source": [
        "# Khai báo thư viện và các đường dẫn cần thiết"
      ],
      "metadata": {
        "id": "6YqwuyqJrqz0"
      }
    },
    {
      "cell_type": "code",
      "execution_count": 1,
      "metadata": {
        "id": "OAYyTm9Y-eEV"
      },
      "outputs": [],
      "source": [
        "import librosa\n",
        "import librosa.display\n",
        "import IPython.display as ipd\n",
        "import matplotlib.pyplot as plt\n",
        "import numpy as np\n",
        "import os\n",
        "import glob\n",
        "import fnmatch\n",
        "import pandas as pd\n",
        "import math\n",
        "from librosa.sequence import dtw\n",
        "import copy\n",
        "from sklearn.metrics import classification_report"
      ]
    },
    {
      "cell_type": "code",
      "source": [
        "from google.colab import drive\n",
        "drive.mount(\"/content/drive\")\n",
        "DATA_ROOT_DIR=\"/content/drive/MyDrive/Speech/Data_14/\"\n",
        "# !ls $DATA_ROOT_DIR"
      ],
      "metadata": {
        "colab": {
          "base_uri": "https://localhost:8080/"
        },
        "id": "aeh08tPKA6Ql",
        "outputId": "d1e73a97-605e-4748-c0b3-771a6a3e7a09"
      },
      "execution_count": 2,
      "outputs": [
        {
          "output_type": "stream",
          "name": "stdout",
          "text": [
            "Mounted at /content/drive\n"
          ]
        }
      ]
    },
    {
      "cell_type": "markdown",
      "source": [
        "# Chuẩn bị dữ liệu\n",
        "Do mỗi label chỉ sử dụng 2-3 mẫu nên em thực hiện trích xuất MFCC từ một vài file âm thanh nhỏ luôn mà không thực hiện load lại list MFCC tổng hợp.\n",
        "\n",
        "Công việc chuẩn bị dữ liệu bảo gồm:\n",
        "- Định nghĩa hàm tính MFCC (như file tính MFCC)\n",
        "- Chọn ra các mẫu dữ liệu và tính toán đặc trưng"
      ],
      "metadata": {
        "id": "e1g3QtsaryXJ"
      }
    },
    {
      "cell_type": "code",
      "source": [
        "def extract_mfcc_features(file_path,n_mfcc):\n",
        "    #load file âm thanh\n",
        "    sound, sr = librosa.load(file_path)\n",
        "\n",
        "    #trích xuất đặc trưng\n",
        "    mfcc = librosa.feature.mfcc(y=sound, sr=sr, n_mfcc=n_mfcc,hop_length=512)\n",
        "    delta_mfcc = librosa.feature.delta(mfcc,width=9)\n",
        "    delta2_mfcc = librosa.feature.delta(mfcc, order=2)\n",
        "\n",
        "    #chuẩn hoá\n",
        "    mfcc_features = np.concatenate((mfcc, delta_mfcc, delta2_mfcc)).T\n",
        "    min_features = np.min(mfcc_features, axis=0)\n",
        "    max_features = np.max(mfcc_features, axis=0)\n",
        "    mfcc_features_nom = (mfcc_features - min_features) / (max_features - min_features)\n",
        "    \n",
        "    return mfcc_features_nom"
      ],
      "metadata": {
        "id": "nyNG5Vr7A7N-"
      },
      "execution_count": 3,
      "outputs": []
    },
    {
      "cell_type": "code",
      "source": [
        "#Chọn dữ liệu, ở đây mỗi label em sử dụng 4 samples\n",
        "n_samples = 4\n",
        "class_names = [\"len\", \"xuong\", \"phai\", \"B\", \"A\", \"trai\", \"nhay\", \"ban\"]\n",
        "features = {}\n",
        "labels = {}\n",
        "sr=22050\n",
        "n_mfcc=13\n",
        "for cname in class_names:\n",
        "    file_paths = [os.path.join(\"\",DATA_ROOT_DIR, cname, \"\"+cname+\"_\"+str(i*15+1)+\".wav\") for i in range(n_samples)]\n",
        "    data = [extract_mfcc_features(file_path,n_mfcc) for file_path in file_paths]\n",
        "    features[cname] = data\n",
        "    labels[cname] = [cname for i in range(len(file_paths))]"
      ],
      "metadata": {
        "id": "r6oQELEIBA0B"
      },
      "execution_count": 4,
      "outputs": []
    },
    {
      "cell_type": "code",
      "source": [
        "for cname in class_names:\n",
        "    print(cname,len(features[cname]))"
      ],
      "metadata": {
        "colab": {
          "base_uri": "https://localhost:8080/"
        },
        "id": "8aBfrP4NCDIr",
        "outputId": "9340f2cf-a8a9-4825-de0f-41f41885cf79"
      },
      "execution_count": 35,
      "outputs": [
        {
          "output_type": "stream",
          "name": "stdout",
          "text": [
            "len 4\n",
            "xuong 4\n",
            "phai 4\n",
            "B 4\n",
            "A 4\n",
            "trai 4\n",
            "nhay 4\n",
            "ban 4\n"
          ]
        }
      ]
    },
    {
      "cell_type": "code",
      "source": [
        "data_arr = {}\n",
        "for cname in class_names:\n",
        "    data_arr[cname] = np.array(features[cname])\n",
        "    for i in range(n_samples):\n",
        "      data_arr[cname][i] = np.array(data_arr[cname][i])"
      ],
      "metadata": {
        "colab": {
          "base_uri": "https://localhost:8080/"
        },
        "id": "uOlxBuyvDJT5",
        "outputId": "4bf2b1f6-a550-42ec-f550-3af4c58db37d"
      },
      "execution_count": 5,
      "outputs": [
        {
          "output_type": "stream",
          "name": "stderr",
          "text": [
            "/usr/local/lib/python3.7/dist-packages/ipykernel_launcher.py:3: VisibleDeprecationWarning: Creating an ndarray from ragged nested sequences (which is a list-or-tuple of lists-or-tuples-or ndarrays with different lengths or shapes) is deprecated. If you meant to do this, you must specify 'dtype=object' when creating the ndarray.\n",
            "  This is separate from the ipykernel package so we can avoid doing imports until\n"
          ]
        }
      ]
    },
    {
      "cell_type": "markdown",
      "source": [
        "# Tạo ra template cho mỗi label\n",
        "Trong phần này, em sử dụng DTW với nhiều samples và có thực hiện phân đoạn"
      ],
      "metadata": {
        "id": "gWHvYnROsj-2"
      }
    },
    {
      "cell_type": "code",
      "source": [
        "model = {}\n",
        "\n",
        "# Với mỗi label tạo ra 1 template\n",
        "for cname in class_names:\n",
        "  print(cname)\n",
        "  # Khởi tạo một số tham số\n",
        "  n_iter = 60 # số vòng lặp\n",
        "  dif_update = 1 # sự cải tiến của template so với vòng lặp trước \n",
        "  epsilon = 1e-5 # điều kiện dừng của sự cải tiến\n",
        "  n_seg = 5 # số đoạn phân\n",
        "  template = np.array([data_arr[cname][0].copy(), data_arr[cname][1].copy(),\n",
        "                       data_arr[cname][2].copy(), data_arr[cname][3].copy()]) \n",
        "\n",
        "  #Mảng lưu các vạch ngăn cách các đoạn, khởi tạo các đoạn chia đều\n",
        "  bound = np.array([np.zeros(n_seg+1), np.zeros(n_seg+1), np.zeros(n_seg+1), np.zeros(n_seg+1)])\n",
        "  for i in range(n_samples):\n",
        "    len_temp = template[i].shape[0]\n",
        "    bound[i][0] = math.ceil(0)\n",
        "    bound[i][n_seg] = math.ceil(len_temp)\n",
        "    for j in range(n_seg-1):\n",
        "      bound[i][j+1] = math.ceil((j+1)*len_temp/n_seg)\n",
        "\n",
        "  #Khởi tạo template (trung bình theo đoạn và giữa các samples)\n",
        "  templateMean = np.array([np.zeros(39), np.zeros(39), np.zeros(39), np.zeros(39), np.zeros(39)])\n",
        "  count = np.array([0, 0, 0, 0, 0])\n",
        "  for j in range(n_seg):\n",
        "    for i in range(n_samples):\n",
        "      for k in range(int(bound[i][j]),int(bound[i][j+1])):\n",
        "        templateMean[j] += template[i][k]\n",
        "        count[j] += 1\n",
        "    templateMean[j] /= count[j]\n",
        "\n",
        "  #Khởi tạo về bước nhảy trạng thái\n",
        "  step_sizes_sigma=np.array([[1, 1], [1, 0], [1, 2]])\n",
        "\n",
        "  #Vòng lặp cập nhật template\n",
        "  while (n_iter > 0 and dif_update > epsilon):\n",
        "\n",
        "    #Với mỗi sample\n",
        "    for i in range(n_samples):\n",
        "\n",
        "      #dtw trả về mảng quy hoạch động chi phí và đường đi tối ưu\n",
        "      D, wp = librosa.sequence.dtw(template[i].T, templateMean.T,step_sizes_sigma=step_sizes_sigma)\n",
        "      \n",
        "      #cập nhật các đoạn theo sự dóng hàng mới nhất\n",
        "      for j in range(n_seg-1):\n",
        "        for m in range(template[i].shape[0]-1):\n",
        "          if (wp[m][1] == n_samples-j and wp[m+1][1] == n_samples-j-1):\n",
        "            bound[i][n_samples-j]=wp[m][0]\n",
        "    \n",
        "    #cập nhật template trung bình\n",
        "    old_temp = copy.deepcopy(templateMean)\n",
        "    templateMean = np.array([np.zeros(39), np.zeros(39), np.zeros(39), np.zeros(39), np.zeros(39)])\n",
        "    count = np.array([0, 0, 0, 0, 0])\n",
        "    for j in range(n_seg):\n",
        "      for i in range(n_samples):\n",
        "        for k in range(int(bound[i][j]),int(bound[i][j+1])):\n",
        "          templateMean[j] += template[i][k]\n",
        "          count[j] += 1\n",
        "      templateMean[j] /= count[j]\n",
        "    n_iter-=1  \n",
        "\n",
        "    #Tính toán sự cải thiện so với vòng lặp trước\n",
        "    dif_update = np.sqrt(np.linalg.norm(templateMean - old_temp, ord=\"fro\"))\n",
        "\n",
        "  #Lưu lại template thu được cuối cùng\n",
        "  model[cname] = templateMean"
      ],
      "metadata": {
        "colab": {
          "base_uri": "https://localhost:8080/"
        },
        "id": "bbTalI68E3ja",
        "outputId": "a2e35133-2f01-43d3-f6d2-cec63d3c2e53"
      },
      "execution_count": 6,
      "outputs": [
        {
          "output_type": "stream",
          "name": "stdout",
          "text": [
            "len\n"
          ]
        },
        {
          "output_type": "stream",
          "name": "stderr",
          "text": [
            "/usr/local/lib/python3.7/dist-packages/ipykernel_launcher.py:12: VisibleDeprecationWarning: Creating an ndarray from ragged nested sequences (which is a list-or-tuple of lists-or-tuples-or ndarrays with different lengths or shapes) is deprecated. If you meant to do this, you must specify 'dtype=object' when creating the ndarray.\n",
            "  if sys.path[0] == '':\n"
          ]
        },
        {
          "output_type": "stream",
          "name": "stdout",
          "text": [
            "xuong\n",
            "phai\n",
            "B\n",
            "A\n",
            "trai\n",
            "nhay\n",
            "ban\n"
          ]
        },
        {
          "output_type": "stream",
          "name": "stderr",
          "text": [
            "/usr/local/lib/python3.7/dist-packages/ipykernel_launcher.py:12: VisibleDeprecationWarning: Creating an ndarray from ragged nested sequences (which is a list-or-tuple of lists-or-tuples-or ndarrays with different lengths or shapes) is deprecated. If you meant to do this, you must specify 'dtype=object' when creating the ndarray.\n",
            "  if sys.path[0] == '':\n"
          ]
        }
      ]
    },
    {
      "cell_type": "markdown",
      "source": [
        "# Đánh giá mô hình bằng tập test\n",
        "Trong phần này em thực hiện đánh giá mô hình. Em chọn ngẫu nhiên một số lượng nhỏ dữ liệu để quan sát kết quả. Nhãn dự đoán là nhãn ứng với \btemplate có chi phí dóng hàng nhỏ nhất"
      ],
      "metadata": {
        "id": "hnZBN0z1PvyL"
      }
    },
    {
      "cell_type": "code",
      "source": [
        "test_mfcc = []\n",
        "test_labels = []\n",
        "\n",
        "for cname in class_names:\n",
        "    file_paths = [os.path.join(\"\",DATA_ROOT_DIR, cname, \"\"+cname+\"_\"+str(i*100+5)+\".wav\") for i in range(n_samples)]\n",
        "    data = [extract_mfcc_features(file_path,n_mfcc) for file_path in file_paths]\n",
        "    for i in range(len(data)):\n",
        "      test_mfcc.append(data[i])\n",
        "      test_labels.append(cname)"
      ],
      "metadata": {
        "id": "I_4-73VOQbjN"
      },
      "execution_count": 7,
      "outputs": []
    },
    {
      "cell_type": "code",
      "source": [
        "y_pred = []\n",
        "\n",
        "for i in range(0,len(test_mfcc)):\n",
        "    cost = {}\n",
        "\n",
        "    #Dóng hàng input với các template và chọn ra template có chi phí nhỏ nhất\n",
        "    for cname in class_names:\n",
        "      D,wp = librosa.sequence.dtw(test_mfcc[i].T, model[cname].T,step_sizes_sigma=step_sizes_sigma)\n",
        "      cost[cname] = D[test_mfcc[i].T.shape[1]-1][model[cname].T.shape[1]-1]\n",
        "    pred = min(cost, key=lambda k: cost[k])\n",
        "    y_pred.append(pred)"
      ],
      "metadata": {
        "id": "98k2pqCKR5SV"
      },
      "execution_count": 8,
      "outputs": []
    },
    {
      "cell_type": "code",
      "source": [
        "#In kết quả quan sát\n",
        "report = classification_report(test_labels, y_pred, target_names=class_names)\n",
        "print(report)"
      ],
      "metadata": {
        "colab": {
          "base_uri": "https://localhost:8080/"
        },
        "id": "jaqcDNEqUcWe",
        "outputId": "ec4069fe-5057-4c59-a679-1690978312f7"
      },
      "execution_count": 9,
      "outputs": [
        {
          "output_type": "stream",
          "name": "stdout",
          "text": [
            "              precision    recall  f1-score   support\n",
            "\n",
            "         len       1.00      1.00      1.00         4\n",
            "       xuong       0.75      0.75      0.75         4\n",
            "        phai       1.00      0.50      0.67         4\n",
            "           B       0.50      0.75      0.60         4\n",
            "           A       1.00      0.50      0.67         4\n",
            "        trai       0.57      1.00      0.73         4\n",
            "        nhay       1.00      0.75      0.86         4\n",
            "         ban       1.00      1.00      1.00         4\n",
            "\n",
            "    accuracy                           0.78        32\n",
            "   macro avg       0.85      0.78      0.78        32\n",
            "weighted avg       0.85      0.78      0.78        32\n",
            "\n"
          ]
        }
      ]
    },
    {
      "cell_type": "code",
      "source": [
        "#quan sát tập nhãn dự đoán so với nhãn đúng\n",
        "print(test_labels)\n",
        "print(y_pred)"
      ],
      "metadata": {
        "colab": {
          "base_uri": "https://localhost:8080/"
        },
        "id": "Eo0PwkCbWJyG",
        "outputId": "f402ef11-8ce0-4b48-c863-059393a6cc74"
      },
      "execution_count": 10,
      "outputs": [
        {
          "output_type": "stream",
          "name": "stdout",
          "text": [
            "['len', 'len', 'len', 'len', 'xuong', 'xuong', 'xuong', 'xuong', 'phai', 'phai', 'phai', 'phai', 'B', 'B', 'B', 'B', 'A', 'A', 'A', 'A', 'trai', 'trai', 'trai', 'trai', 'nhay', 'nhay', 'nhay', 'nhay', 'ban', 'ban', 'ban', 'ban']\n",
            "['len', 'len', 'B', 'len', 'xuong', 'xuong', 'xuong', 'xuong', 'phai', 'phai', 'phai', 'phai', 'B', 'B', 'B', 'phai', 'A', 'A', 'A', 'A', 'trai', 'trai', 'phai', 'trai', 'nhay', 'nhay', 'phai', 'len', 'ban', 'ban', 'len', 'len']\n"
          ]
        }
      ]
    },
    {
      "cell_type": "markdown",
      "source": [
        "# Demo nhận dạng với đoạn dữ liệu mới thu"
      ],
      "metadata": {
        "id": "UFhvbc02u_hy"
      }
    },
    {
      "cell_type": "code",
      "source": [
        "audio_file = \"/content/drive/MyDrive/Speech/Data/len.wav\"\n",
        "ipd.Audio(audio_file)\n",
        "# load audio files with librosa\n",
        "signal, sr = librosa.load(audio_file)\n",
        "mfccs_features = extract_mfcc_features(audio_file,n_mfcc)\n",
        "mfccs_features.shape\n",
        "# mfccs_features"
      ],
      "metadata": {
        "colab": {
          "base_uri": "https://localhost:8080/"
        },
        "id": "pfT42YGTnKDh",
        "outputId": "09d57ff4-d2b6-463b-f5f1-b56346c1d3c3"
      },
      "execution_count": 17,
      "outputs": [
        {
          "output_type": "execute_result",
          "data": {
            "text/plain": [
              "(30, 39)"
            ]
          },
          "metadata": {},
          "execution_count": 17
        }
      ]
    },
    {
      "cell_type": "code",
      "source": [
        "cost = {}\n",
        "for cname in class_names:\n",
        "  D,wp = librosa.sequence.dtw(mfccs_features.T, model[cname].T,step_sizes_sigma=step_sizes_sigma)\n",
        "  # print(D.shape)\n",
        "  cost[cname] = D[mfccs_features.T.shape[1]-1][model[cname].T.shape[1]-1]\n",
        "  # print(mfccs_features.T.shape)\n",
        "  # print(model[cname].T.shape)\n",
        "print(cost)"
      ],
      "metadata": {
        "colab": {
          "base_uri": "https://localhost:8080/"
        },
        "id": "FdHI_0nfnVDI",
        "outputId": "8c506198-ceac-4557-cc1e-de43cfb1b9c5"
      },
      "execution_count": 18,
      "outputs": [
        {
          "output_type": "stream",
          "name": "stdout",
          "text": [
            "{'len': 41.09538200078585, 'xuong': 57.99488071578956, 'phai': 60.162707138637025, 'B': 54.30067037276879, 'A': 59.714654877874096, 'trai': 57.10609964872166, 'nhay': 52.51076121931237, 'ban': 58.827587189663156}\n"
          ]
        }
      ]
    },
    {
      "cell_type": "code",
      "source": [
        "pred = min(cost, key=lambda k: cost[k])\n",
        "print(pred)"
      ],
      "metadata": {
        "colab": {
          "base_uri": "https://localhost:8080/"
        },
        "id": "efQrywPevKCR",
        "outputId": "c01722f9-5097-41d4-ae2d-4dd2b4d1308f"
      },
      "execution_count": 19,
      "outputs": [
        {
          "output_type": "stream",
          "name": "stdout",
          "text": [
            "len\n"
          ]
        }
      ]
    }
  ]
}