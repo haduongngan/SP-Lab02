{
  "nbformat": 4,
  "nbformat_minor": 0,
  "metadata": {
    "colab": {
      "name": "Pre-processing and MFCC.ipynb",
      "provenance": []
    },
    "kernelspec": {
      "name": "python3",
      "display_name": "Python 3"
    },
    "language_info": {
      "name": "python"
    }
  },
  "cells": [
    {
      "cell_type": "markdown",
      "source": [
        "Trong tệp này, em thực hiện 2 công việc chính:\n",
        "- Xử lý các file âm thanh mà nhóm đã thu âm ở bài tập 1\n",
        "- Trích xuất các đặc trưng MFCC của từng từ (39 đặc trưng gồm MFCC, delta và deltadelta)"
      ],
      "metadata": {
        "id": "f_2xlNmSb7Bh"
      }
    },
    {
      "cell_type": "markdown",
      "source": [
        "# Khai báo thư viện, các đường link cần thiết"
      ],
      "metadata": {
        "id": "2gmR0bGcczd-"
      }
    },
    {
      "cell_type": "code",
      "execution_count": 1,
      "metadata": {
        "colab": {
          "base_uri": "https://localhost:8080/"
        },
        "id": "f1v928nqYQBS",
        "outputId": "6be7c48e-db5e-4220-9e10-ed5b31de8aee"
      },
      "outputs": [
        {
          "output_type": "stream",
          "name": "stdout",
          "text": [
            "Collecting pydub\n",
            "  Downloading pydub-0.25.1-py2.py3-none-any.whl (32 kB)\n",
            "Installing collected packages: pydub\n",
            "Successfully installed pydub-0.25.1\n"
          ]
        }
      ],
      "source": [
        "import librosa\n",
        "import librosa.display\n",
        "import IPython.display as ipd\n",
        "import matplotlib.pyplot as plt\n",
        "import numpy as np\n",
        "import os\n",
        "import glob\n",
        "import fnmatch\n",
        "import pandas as pd\n",
        "!pip install pydub\n",
        "from pydub import AudioSegment"
      ]
    },
    {
      "cell_type": "code",
      "source": [
        "from google.colab import drive\n",
        "drive.mount(\"/content/drive\")\n",
        "DATA_ROOT_DIR=\"/content/drive/MyDrive/Speech/Data_14/\"\n",
        "!ls $DATA_ROOT_DIR\n",
        "DATA_Ex1=\"/content/drive/MyDrive/Speech/Ex1-2022/\"\n",
        "!ls $DATA_Ex1\n",
        "data_dirs=[DATA_Ex1+'14/19020061_DuongNganHa/',\n",
        "           DATA_Ex1+'14/19021240_NguyenTrongDat/',\n",
        "           DATA_Ex1+'14/19020066_HoangHuuTung/',\n",
        "           DATA_Ex1+'14/19021229_DangTrungCuong/'\n",
        "           ]"
      ],
      "metadata": {
        "colab": {
          "base_uri": "https://localhost:8080/"
        },
        "id": "PtaccJDZlqNt",
        "outputId": "d3a32fa5-bf4b-4831-adb0-7a95dd4dc777"
      },
      "execution_count": 3,
      "outputs": [
        {
          "output_type": "stream",
          "name": "stdout",
          "text": [
            "Mounted at /content/drive\n",
            " 01   05   10  '15 (Nhóm có STT 14 trong danh sách)'   7\n",
            " 02   06   11   16\t\t\t\t       89.txt\n",
            " 03   08   13   1.txt\t\t\t\t       99\n",
            " 04   09   14   28.txt\t\t\t\t       Groups.gsheet\n"
          ]
        }
      ]
    },
    {
      "cell_type": "code",
      "source": [
        "!mkdir \"/content/drive/MyDrive/Speech/Data_14/xuong\"\n",
        "!mkdir \"/content/drive/MyDrive/Speech/Data_14/len\"\n",
        "!mkdir \"/content/drive/MyDrive/Speech/Data_14/phai\"\n",
        "!mkdir \"/content/drive/MyDrive/Speech/Data_14/trai\"\n",
        "!mkdir \"/content/drive/MyDrive/Speech/Data_14/nhay\"\n",
        "!mkdir \"/content/drive/MyDrive/Speech/Data_14/ban\"\n",
        "!mkdir \"/content/drive/MyDrive/Speech/Data_14/A\"\n",
        "!mkdir \"/content/drive/MyDrive/Speech/Data_14/B\""
      ],
      "metadata": {
        "id": "-Mq1MujOmz0T"
      },
      "execution_count": 4,
      "outputs": []
    },
    {
      "cell_type": "markdown",
      "source": [
        "# Xử lý các file âm thanh\n",
        "Với mục đích trích xuất được các đặc trưng MFCC cho từng từ, em đã thực hiện chia nhỏ các file âm thanh đã thu lần trước thành các file nhỏ mà mỗi file chỉ chứa một đoạn âm có 1 label duy nhất. Việc này được thực hiện lần lượt như sau:\n",
        "- Định nghĩa hàm cắt âm thanh từ đoạn âm thanh dài, biết điểm start và end\n",
        "- Cắt các file âm thanh với các nhãn mong muốn (ở bài tập này, em bỏ qua label \"sil\") và lưu vào các thư mục tương ứng\n",
        "------\n",
        "*Cách này không được tối ưu do tốn bộ nhớ để lưu lại các file âm thanh sau khi cắt. Trước đó em đã thử thực hiện trích xuất đặc trưng MFCC trên từng mẩu của cả đoạn âm thanh dài và lưu vào mảng tuy nhiên em gặp lỗi chưa sửa được: nếu không bỏ sil thì tồn tại những đoạn sil quá ngắn không tính được delta và delta2; nếu bỏ sil thì em cần apply việc trích xuất cho từng hàng rồi thêm chúng vào dataframe, em bị báo lỗi kích thước các phần thêm vào không đồng đều*"
      ],
      "metadata": {
        "id": "JXUUQ9j2c63V"
      }
    },
    {
      "cell_type": "code",
      "source": [
        "def split_wav(start,end,dir_audio,dir_export,name_export):\n",
        "    start = start * 1000 \n",
        "    end = end * 1000\n",
        "    newAudio = AudioSegment.from_wav(dir_audio)\n",
        "    newAudio = newAudio[start:end]\n",
        "    name_export = dir_export + name_export +\".wav\"\n",
        "    newAudio.export(name_export, format=\"wav\")"
      ],
      "metadata": {
        "id": "D9bT5PWznHhq"
      },
      "execution_count": 5,
      "outputs": []
    },
    {
      "cell_type": "code",
      "source": [
        "class_names = {'len':0, 'xuong':0, 'trai':0, 'phai':0, 'nhay':0,'ban':0,'A':0,'B':0}\n",
        "\n",
        "#Với từng thư mục thu âm của mỗi sinh viên\n",
        "for data_dir in data_dirs:\n",
        "  files = fnmatch.filter(os.listdir(data_dir), '*.txt')\n",
        "  files_name = [f.split(\".\")[0] for f in files]\n",
        "\n",
        "  #Với từng file âm thanh\n",
        "  for path in files_name:\n",
        "    path_wav = path + \".wav\"\n",
        "    path_txt = path + \".txt\"\n",
        "    df_i = pd.read_csv(data_dir+path_txt, sep=\"\\t\", header=None)\n",
        "\n",
        "    #Với từng label\n",
        "    for index,row in df_i.iterrows():\n",
        "      if row[2] in class_names:\n",
        "        class_names[row[2]] += 1\n",
        "      else:\n",
        "        continue\n",
        "        \n",
        "      #Thực hiện cắt file\n",
        "      name_export = row[2]+\"_\"+ str(class_names[row[2]])\n",
        "      split_wav(row[0],row[1],data_dir+path_wav,\"\"+DATA_ROOT_DIR+row[2]+\"/\",name_export)"
      ],
      "metadata": {
        "id": "dPb1SuUxnMpe"
      },
      "execution_count": 6,
      "outputs": []
    },
    {
      "cell_type": "code",
      "source": [
        "class_names"
      ],
      "metadata": {
        "colab": {
          "base_uri": "https://localhost:8080/"
        },
        "id": "2G9lK4Annlx7",
        "outputId": "0c9a6e30-06b2-44fb-86cd-2da596e3783c"
      },
      "execution_count": 7,
      "outputs": [
        {
          "output_type": "execute_result",
          "data": {
            "text/plain": [
              "{'A': 487,\n",
              " 'B': 539,\n",
              " 'ban': 473,\n",
              " 'len': 501,\n",
              " 'nhay': 545,\n",
              " 'phai': 456,\n",
              " 'trai': 505,\n",
              " 'xuong': 474}"
            ]
          },
          "metadata": {},
          "execution_count": 7
        }
      ]
    },
    {
      "cell_type": "markdown",
      "source": [
        "# Trích xuất đặc trưng MFCC\n",
        "Em thực hiện trích xuất đặc trưng MFCC với lần lượt các bước:\n",
        "- Định nghĩa hàm trích xuất đặc trưng MFCC, delta, delta2 từ file âm thanh đầu vào. Trong hàm này em thực hiện việc chuẩn hoá luôn (em lựa chọn đưa về [0,1])\n",
        "- Trích xuất đặc trưng cho từng file cắt được bên trên, nối chúng vào list chung\n",
        "- Lưu từng list MFCC đã có vào tệp để các mô hình sau gọi lại sử dụng mà không cần tính toán"
      ],
      "metadata": {
        "id": "BCXgRkadfy7w"
      }
    },
    {
      "cell_type": "code",
      "source": [
        "def extract_mfcc_features(file_path,n_mfcc):\n",
        "    #load file âm thanh\n",
        "    sound, sr = librosa.load(file_path)\n",
        "\n",
        "    #trích xuất đặc trưng\n",
        "    mfcc = librosa.feature.mfcc(y=sound, sr=sr, n_mfcc=n_mfcc,hop_length=512)\n",
        "    delta_mfcc = librosa.feature.delta(mfcc,width=9)\n",
        "    delta2_mfcc = librosa.feature.delta(mfcc, order=2)\n",
        "\n",
        "    #chuẩn hoá\n",
        "    mfcc_features = np.concatenate((mfcc, delta_mfcc, delta2_mfcc)).T\n",
        "    min_features = np.min(mfcc_features, axis=0)\n",
        "    max_features = np.max(mfcc_features, axis=0)\n",
        "    mfcc_features_nom = (mfcc_features - min_features) / (max_features - min_features)\n",
        "    \n",
        "    return mfcc_features_nom"
      ],
      "metadata": {
        "id": "gUd7DCq2mshQ"
      },
      "execution_count": 8,
      "outputs": []
    },
    {
      "cell_type": "code",
      "source": [
        "class_names_arr = [\"len\", \"xuong\", \"phai\", \"B\", \"A\", \"trai\", \"nhay\", \"ban\"]\n",
        "mfcc_features_data = {}\n",
        "sr=22050\n",
        "n_mfcc=13\n",
        "\n",
        "#Với từng label\n",
        "for cname in class_names_arr:\n",
        "    mfcc_features_data[cname] = []\n",
        "\n",
        "    #Xét tất cả các mẫu đã có\n",
        "    file_paths = [os.path.join(\"\",DATA_ROOT_DIR, cname, file_name) for file_name in fnmatch.filter(os.listdir(os.path.join(\"\",DATA_ROOT_DIR, cname)), '*.wav')]\n",
        "    for file_path in file_paths:\n",
        "      mfcc = extract_mfcc_features(file_path,n_mfcc)\n",
        "      \n",
        "      #Bỏ qua nan để tránh lỗi khi sử dụng cho model\n",
        "      if np.isnan(np.sum(mfcc)):\n",
        "        print(file_path)\n",
        "        continue\n",
        "        \n",
        "      #Thêm vào list chung  \n",
        "      mfcc_features_data[cname].append(mfcc)"
      ],
      "metadata": {
        "id": "JB7epNghpFkn"
      },
      "execution_count": 10,
      "outputs": []
    },
    {
      "cell_type": "code",
      "source": [
        "mfcc_features_data['A'][0].shape"
      ],
      "metadata": {
        "colab": {
          "base_uri": "https://localhost:8080/"
        },
        "id": "SPtqnen_pLYL",
        "outputId": "c52d9111-eba5-41b5-df89-8b722bd0930e"
      },
      "execution_count": 14,
      "outputs": [
        {
          "output_type": "execute_result",
          "data": {
            "text/plain": [
              "(23, 39)"
            ]
          },
          "metadata": {},
          "execution_count": 14
        }
      ]
    },
    {
      "cell_type": "code",
      "source": [
        "#Lưu các giá trị tính được ra file\n",
        "for cname in class_names:\n",
        "  np.save(DATA_ROOT_DIR+\"MFCC/\"+cname+\"_mfcc\",mfcc_features_data[cname])"
      ],
      "metadata": {
        "colab": {
          "base_uri": "https://localhost:8080/"
        },
        "id": "HoAZsN0Nqh-d",
        "outputId": "fa3624fb-b6f1-4ec6-8888-c8de9d29381b"
      },
      "execution_count": 15,
      "outputs": [
        {
          "output_type": "stream",
          "name": "stderr",
          "text": [
            "/usr/local/lib/python3.7/dist-packages/numpy/lib/npyio.py:528: VisibleDeprecationWarning: Creating an ndarray from ragged nested sequences (which is a list-or-tuple of lists-or-tuples-or ndarrays with different lengths or shapes) is deprecated. If you meant to do this, you must specify 'dtype=object' when creating the ndarray.\n",
            "  arr = np.asanyarray(arr)\n"
          ]
        }
      ]
    }
  ]
}